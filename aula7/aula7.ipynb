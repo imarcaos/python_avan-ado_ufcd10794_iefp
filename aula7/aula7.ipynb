{
 "cells": [
  {
   "cell_type": "markdown",
   "metadata": {},
   "source": [
    "Aula 7 - 11-10-11"
   ]
  },
  {
   "cell_type": "code",
   "execution_count": 4,
   "metadata": {},
   "outputs": [
    {
     "name": "stdout",
     "output_type": "stream",
     "text": [
      "Estou na funcao1 e variavel local é :  50\n",
      "Estou na funcao1 e variavel contador é :  1\n",
      "funcao2 : INFORMÁTICA\n",
      "Sou a variável global2:  399999\n"
     ]
    }
   ],
   "source": [
    "Contador = 0 # Variável global\n",
    "\n",
    "def funcao1():\n",
    "    global contador\n",
    "    contador = 1\n",
    "    variavel_local = 50 # variável local que pertence a função 1\n",
    "    print(\"Estou na funcao1 e variavel local é : \", variavel_local) # mostra variável local\n",
    "    print(\"Estou na funcao1 e variavel contador é : \", contador) # mostra global contador\n",
    "\n",
    "def funcao2():\n",
    "    global variavel_global2 # variavel global\n",
    "    variavel_global2 = 100000\n",
    "    variavel_local = \"INFORMÁTICA\"\n",
    "    print(\"funcao2 :\", variavel_local)\n",
    "\n",
    "def funcao3():\n",
    "    #variavel_global2 = 0.5 # esta como local porque não usei o global\n",
    "    global variavel_global2\n",
    "    variavel_global2 = 399999\n",
    "\n",
    "funcao1()\n",
    "funcao2()\n",
    "funcao3()\n",
    "print(\"Sou a variável global2: \", variavel_global2)\n"
   ]
  },
  {
   "cell_type": "code",
   "execution_count": null,
   "metadata": {},
   "outputs": [],
   "source": [
    "class Prancha:\n",
    "    "
   ]
  }
 ],
 "metadata": {
  "kernelspec": {
   "display_name": "Python 3",
   "language": "python",
   "name": "python3"
  },
  "language_info": {
   "codemirror_mode": {
    "name": "ipython",
    "version": 3
   },
   "file_extension": ".py",
   "mimetype": "text/x-python",
   "name": "python",
   "nbconvert_exporter": "python",
   "pygments_lexer": "ipython3",
   "version": "3.12.4"
  }
 },
 "nbformat": 4,
 "nbformat_minor": 2
}
