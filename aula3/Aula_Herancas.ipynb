{
 "cells": [
  {
   "cell_type": "markdown",
   "metadata": {},
   "source": [
    "Exemplo de herança por níveis"
   ]
  },
  {
   "cell_type": "code",
   "execution_count": 4,
   "metadata": {},
   "outputs": [
    {
     "name": "stdout",
     "output_type": "stream",
     "text": [
      "Vela\n"
     ]
    },
    {
     "data": {
      "text/plain": [
       "'Duarte'"
      ]
     },
     "execution_count": 4,
     "metadata": {},
     "output_type": "execute_result"
    }
   ],
   "source": [
    "class Pessoa:\n",
    "    #contrutor\n",
    "    def __init__(self,nome,idade,sexo, nacionalidade, localidade):\n",
    "        self.nome = nome\n",
    "        self.idade = idade\n",
    "        self.sexo = sexo\n",
    "        self.nacionalidade = nacionalidade\n",
    "        self.localidade = localidade\n",
    "    #Definição dos métodos\n",
    "    def get_nome(self):\n",
    "        return {self.nome}\n",
    "    def get_sexo(self):\n",
    "        return f\"Eu sou do sexo {self.sexo}\"\n",
    "    def get_idade(self):\n",
    "        return f\"Eu tenho {self.idade} anos\"\n",
    "    def altera_idade(self,idade):\n",
    "        self.idade = idade\n",
    "        print(f\"Eu passei a ter esta idade {self.idade}\")\n",
    "    def altera_nome(self,nome):\n",
    "        self.nome = nome\n",
    "        print(f\"Eu agora chamo-me {self.nome}\")\n",
    "\n",
    "#Definição da classe\n",
    "class Estudante(Pessoa):\n",
    "    #COnstrutor\n",
    "    def __init__(self,nome,idade,sexo, nacionalidade, localidade, nr_aluno,nome_curso, turma, estabelecimento):\n",
    "        super().__init__(nome,idade, sexo, nacionalidade, localidade)\n",
    "        #definição dos atributos específicos do objeto tipo estudante\n",
    "        self.nr_aluno = nr_aluno\n",
    "        self.nome_curso = nome_curso\n",
    "        self.turma = turma\n",
    "        self.estabelecimento = estabelecimento\n",
    "    # Definição métodos\n",
    "    def show_aluno(self):\n",
    "        print(f\"\"\"Eu sou o aluno {self.nome}, \n",
    "              e tenho estas características como estudante:\"\"\")\n",
    "        print(f\"\"\" Nr de aluno: {self.nr_aluno}\n",
    "              Turma: {self.turma } \n",
    "              Nome do curso: {self.nome_curso} \n",
    "              Escola: {self.estabelecimento} \n",
    "            \"\"\")\n",
    "    def altera_nome(self, nome):\n",
    "        self.nome = nome\n",
    "        print(f\"Eu sou estudante e por isso tive de mudar de nome: {self.nome}\")\n",
    "\n",
    "class Atleta(Estudante):\n",
    "    #Construtor\n",
    "    def __init__(self, nome, idade, sexo, nacionalidade, localidade, nr_aluno,nome_curso, turma, estabelecimento, modalidade):\n",
    "        super().__init__(nome,idade, sexo, nacionalidade, localidade, nr_aluno,nome_curso, turma, estabelecimento)\n",
    "        self.modalidade = modalidade   \n",
    "\n",
    "#instanciação de objetos\n",
    "# p1=Pessoa('Fátima',45,'feminino','portuguesa','Lisboa')\n",
    "# print(p1.get_nome(),p1.get_idade())\n",
    "# p1.altera_nome('Fátima Sousa')\n",
    "\n",
    "# estudante1 = Estudante('Rafael',34,'Masculino','Espanhola','Madrid',1234,'Python','A',\\\n",
    "#                        'Escola Tecnológica de Madrid')\n",
    "# estudante1.show_aluno()\n",
    "# estudante1.altera_nome('Rafael Silva')\n",
    "# estudante1.show_aluno()\n",
    "atleta1 = Atleta('Duarte',20,'Masculino','Espanhola','Madrid',1234,'Python',\\\n",
    "                'A','Escola Tecnológica de Madrid','Vela')\n",
    "print(atleta1.modalidade)\n",
    "atleta1.nome"
   ]
  },
  {
   "cell_type": "markdown",
   "metadata": {},
   "source": [
    "Exemplo de heranças multiplas"
   ]
  },
  {
   "cell_type": "code",
   "execution_count": 2,
   "metadata": {},
   "outputs": [
    {
     "name": "stdout",
     "output_type": "stream",
     "text": [
      "Eu venho da mãe Caracois\n"
     ]
    }
   ],
   "source": [
    "class Pai:\n",
    "    def __init__(self, cabelo):\n",
    "        self.cabelo = cabelo\n",
    "        self.hobbie = 'Jardinagem'\n",
    "\n",
    "    def mostra_cabelo(self):\n",
    "        print(f\"Eu venho do pai {self.cabelo}\")\n",
    "\n",
    "class Mae:\n",
    "    def __init__(self, cabelo):\n",
    "        self.cabelo = cabelo\n",
    "        self.hobbie = 'Dança'\n",
    "    \n",
    "    def mostra_cabelo(self):\n",
    "        print(f\"Eu venho da mãe {self.cabelo}\")\n",
    "    \n",
    "    def dancar(self):\n",
    "        print(f\"A mãe dança\")\n",
    "\n",
    "class Filho(Pai, Mae):\n",
    "    pass\n",
    "\n",
    "filho1 = Filho('Caracois')\n",
    "filho1.mostra_cabelo()\n",
    "    "
   ]
  }
 ],
 "metadata": {
  "kernelspec": {
   "display_name": "Python 3",
   "language": "python",
   "name": "python3"
  },
  "language_info": {
   "codemirror_mode": {
    "name": "ipython",
    "version": 3
   },
   "file_extension": ".py",
   "mimetype": "text/x-python",
   "name": "python",
   "nbconvert_exporter": "python",
   "pygments_lexer": "ipython3",
   "version": "3.12.6"
  }
 },
 "nbformat": 4,
 "nbformat_minor": 2
}
