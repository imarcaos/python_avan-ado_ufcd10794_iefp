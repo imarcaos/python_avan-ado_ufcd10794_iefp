{
 "cells": [
  {
   "cell_type": "markdown",
   "metadata": {},
   "source": [
    "# Aula 5"
   ]
  },
  {
   "cell_type": "code",
   "execution_count": 2,
   "metadata": {},
   "outputs": [
    {
     "name": "stdout",
     "output_type": "stream",
     "text": [
      "['__add__', '__class__', '__class_getitem__', '__contains__', '__delattr__', '__delitem__', '__dir__', '__doc__', '__eq__', '__format__', '__ge__', '__getattribute__', '__getitem__', '__getstate__', '__gt__', '__hash__', '__iadd__', '__imul__', '__init__', '__init_subclass__', '__iter__', '__le__', '__len__', '__lt__', '__mul__', '__ne__', '__new__', '__reduce__', '__reduce_ex__', '__repr__', '__reversed__', '__rmul__', '__setattr__', '__setitem__', '__sizeof__', '__str__', '__subclasshook__', 'append', 'clear', 'copy', 'count', 'extend', 'index', 'insert', 'pop', 'remove', 'reverse', 'sort']\n"
     ]
    },
    {
     "data": {
      "text/plain": [
       "2"
      ]
     },
     "execution_count": 2,
     "metadata": {},
     "output_type": "execute_result"
    }
   ],
   "source": [
    "a = [1,3]\n",
    "print(dir(a))\n",
    "len(a)"
   ]
  },
  {
   "cell_type": "code",
   "execution_count": 2,
   "metadata": {},
   "outputs": [],
   "source": [
    "# Definição da classe bola\n",
    "class Bola:\n",
    "    def __init__(self, velocidade, modalidade, forma, cor):\n",
    "        self.velocidade = velocidade\n",
    "        self.material = 'pele'\n",
    "        self.modalidade = modalidade        \n",
    "        self.forma = forma\n",
    "        self.cor = cor\n",
    "    def mostra_velocidade(self):\n",
    "        return self.velocidade\n",
    "    def incrementa_velocidade(self, valor_incrementar):\n",
    "        self.velocidade = self.velocidade + valor_incrementar\n",
    "        return self.velocidade\n",
    "    def saltar(self, altura):\n",
    "        print(f\"Estou a saltar com uma altura inicial de {altura}\")\n",
    "    def mostra_att(self):\n",
    "        print(\"velocidade:\", self.velocidade)\n",
    "        print(\"material:\", self.material)\n",
    "        print(\"modalidade:\", self.modalidade)\n",
    "        print(\"forma:\", self.forma)\n",
    "        print(\"cor:\", self.cor)\n",
    "\n",
    "class PequenaBola(Bola):\n",
    "    def __init__(self, velocidade, modalidade, forma, cor, tamanho_pequeno):\n",
    "        super().__init__(velocidade, modalidade, forma, cor)\n",
    "        self.tamanho_pequeno = tamanho_pequeno\n",
    "        self.nome = 'Bola Pequena'\n",
    "    def mostra_att(self):\n",
    "        super().mostra_att()\n",
    "        print(\"forma:\", self.nome)\n",
    "        print(\"tamanho_pequeno:\", self.tamanho_pequeno)"
   ]
  },
  {
   "cell_type": "code",
   "execution_count": 7,
   "metadata": {},
   "outputs": [
    {
     "name": "stdout",
     "output_type": "stream",
     "text": [
      "velocidade: 2.5\n",
      "material: pele\n",
      "modalidade: Futebol\n",
      "forma: redonda\n",
      "cor: azul\n",
      "\n",
      "---------------\n",
      "velocidade: 1.0\n",
      "material: pele\n",
      "modalidade: Rugby\n",
      "forma: oval\n",
      "cor: castanho\n"
     ]
    }
   ],
   "source": [
    "bola_futebol = Bola(2.5, 'Futebol', 'redonda', 'azul')\n",
    "bola_futebol.mostra_att()\n",
    "print(\"\\n---------------\")\n",
    "bola_rugby = Bola(1.0, 'Rugby', 'oval', 'castanho')\n",
    "bola_rugby.mostra_att()"
   ]
  },
  {
   "cell_type": "markdown",
   "metadata": {},
   "source": [
    "Por ser pública as classes Bola e filh PequenaBola conseguimos aceder aos atributos/métodos e conseguimos alterar diretamente os atributos"
   ]
  },
  {
   "cell_type": "code",
   "execution_count": 8,
   "metadata": {},
   "outputs": [
    {
     "name": "stdout",
     "output_type": "stream",
     "text": [
      "pele\n",
      "plástico\n"
     ]
    }
   ],
   "source": [
    "# consultar atributo material\n",
    "print(bola_futebol.material)\n",
    "bola_futebol.material = 'plástico'\n",
    "print(bola_futebol.material)"
   ]
  },
  {
   "cell_type": "markdown",
   "metadata": {},
   "source": [
    "Consultar os atributos e métodos bola de futebol e a de rugby"
   ]
  },
  {
   "cell_type": "code",
   "execution_count": 9,
   "metadata": {},
   "outputs": [
    {
     "name": "stdout",
     "output_type": "stream",
     "text": [
      "['__class__', '__delattr__', '__dict__', '__dir__', '__doc__', '__eq__', '__format__', '__ge__', '__getattribute__', '__getstate__', '__gt__', '__hash__', '__init__', '__init_subclass__', '__le__', '__lt__', '__module__', '__ne__', '__new__', '__reduce__', '__reduce_ex__', '__repr__', '__setattr__', '__sizeof__', '__str__', '__subclasshook__', '__weakref__', 'cor', 'forma', 'incrementa_velocidade', 'material', 'modalidade', 'mostra_att', 'mostra_velocidade', 'saltar', 'velocidade']\n"
     ]
    }
   ],
   "source": [
    "print(dir(bola_futebol))"
   ]
  },
  {
   "cell_type": "code",
   "execution_count": 5,
   "metadata": {},
   "outputs": [
    {
     "name": "stdout",
     "output_type": "stream",
     "text": [
      "0\n",
      "10\n",
      "A última velocidade: 1000\n",
      "\n",
      "----- Vou mostrar a bola pequena -----\n",
      "velocidade: 0\n",
      "material: pele\n",
      "modalidade: Berlinde\n",
      "forma: redonda\n",
      "cor: transparente\n",
      "forma: Bola Pequena\n",
      "tamanho_pequeno: 1\n"
     ]
    }
   ],
   "source": [
    "bola3 = Bola(0, 'Tenis de Mesa', 'redonda', 'branca')\n",
    "print(bola3.velocidade)\n",
    "bola3.incrementa_velocidade(10)\n",
    "print(bola3.velocidade)\n",
    "bola3.mostra_velocidade()\n",
    "bola3.velocidade = 1000\n",
    "print(\"A última velocidade:\", bola3.velocidade)\n",
    "print(\"\")\n",
    "\n",
    "bola_pequena1 = PequenaBola(0, 'Berlinde', 'redonda', 'transparente', 1)\n",
    "print(\"----- Vou mostrar a bola pequena -----\")\n",
    "bola_pequena1.mostra_att()"
   ]
  },
  {
   "cell_type": "code",
   "execution_count": 27,
   "metadata": {},
   "outputs": [
    {
     "name": "stdout",
     "output_type": "stream",
     "text": [
      "['__class__', '__delattr__', '__dict__', '__dir__', '__doc__', '__eq__', '__format__', '__ge__', '__getattribute__', '__getstate__', '__gt__', '__hash__', '__init__', '__init_subclass__', '__le__', '__lt__', '__module__', '__ne__', '__new__', '__reduce__', '__reduce_ex__', '__repr__', '__setattr__', '__sizeof__', '__str__', '__subclasshook__', '__weakref__', 'cor', 'forma', 'incrementa_velocidade', 'material', 'modalidade', 'mostra_att', 'mostra_velocidade', 'nome', 'saltar', 'tamanho_pequeno', 'velocidade']\n"
     ]
    }
   ],
   "source": [
    "print(dir(bola_pequena1))"
   ]
  },
  {
   "cell_type": "markdown",
   "metadata": {},
   "source": [
    "# Aula 6 - A mesma classe Bola, mas com atributos protegidos e métodos protegidos"
   ]
  },
  {
   "cell_type": "code",
   "execution_count": 37,
   "metadata": {},
   "outputs": [],
   "source": [
    "# Definição da classe bola\n",
    "class Bola:\n",
    "    def __init__(self, velocidade, modalidade, forma, cor):\n",
    "        self.velocidade = velocidade\n",
    "        self.material = 'pele'\n",
    "        self.modalidade = modalidade        \n",
    "        self._forma = forma # atributo protegito\n",
    "        self.cor = cor\n",
    "    def mostra_velocidade(self):\n",
    "        return self.velocidade\n",
    "    def incrementa_velocidade(self, valor_incrementar):\n",
    "        self.velocidade = self.velocidade + valor_incrementar\n",
    "        return self.velocidade\n",
    "    def saltar(self, altura):\n",
    "        print(f\"Estou a saltar com uma altura inicial de {altura}\")\n",
    "    def mostra_att(self):\n",
    "        print(\"velocidade:\", self.velocidade)\n",
    "        print(\"material:\", self.material)\n",
    "        print(\"modalidade:\", self.modalidade)\n",
    "        print(\"forma:\", self.forma)\n",
    "        print(\"cor:\", self.cor)\n",
    "    # Métodos protegidos\n",
    "    def _mostra_forma(self):\n",
    "        return self._forma\n",
    "    def _altera_forma(self, forma):\n",
    "        self._forma = forma\n",
    "\n",
    "class PequenaBola(Bola):\n",
    "    def __init__(self, velocidade, modalidade, forma, cor, tamanho_pequeno):\n",
    "        super().__init__(velocidade, modalidade, forma, cor)\n",
    "        self._tamanho_pequeno = tamanho_pequeno\n",
    "        self.nome = 'Bola Pequena'\n",
    "    def mostra_att(self):\n",
    "        self._mostra_forma()"
   ]
  },
  {
   "cell_type": "code",
   "execution_count": 38,
   "metadata": {},
   "outputs": [],
   "source": [
    "bola1 = Bola(5, 'baiseball', 'redonda', 'branca')\n",
    "pbola1 = PequenaBola(2, 'baiseball', 'redonda', 'azul', 1)"
   ]
  },
  {
   "cell_type": "code",
   "execution_count": 33,
   "metadata": {},
   "outputs": [
    {
     "name": "stdout",
     "output_type": "stream",
     "text": [
      "['__class__', '__delattr__', '__dict__', '__dir__', '__doc__', '__eq__', '__format__', '__ge__', '__getattribute__', '__getstate__', '__gt__', '__hash__', '__init__', '__init_subclass__', '__le__', '__lt__', '__module__', '__ne__', '__new__', '__reduce__', '__reduce_ex__', '__repr__', '__setattr__', '__sizeof__', '__str__', '__subclasshook__', '__weakref__', '_altera_forma', '_forma', '_mostra_forma', '_tamanho_pequeno', 'cor', 'incrementa_velocidade', 'material', 'modalidade', 'mostra_att', 'mostra_velocidade', 'nome', 'saltar', 'velocidade']\n"
     ]
    }
   ],
   "source": [
    "print(dir(pbola1))"
   ]
  },
  {
   "cell_type": "code",
   "execution_count": 39,
   "metadata": {},
   "outputs": [
    {
     "name": "stdout",
     "output_type": "stream",
     "text": [
      "Usando um método público: None\n",
      "redonda\n",
      "Acedendo forçadamente a um atributo protegido: oval\n"
     ]
    }
   ],
   "source": [
    "# Forma que o programador não quer\n",
    "bola1._mostra_forma()\n",
    "pbola1._mostra_forma()\n",
    "\n",
    "# Forma que deve ser utilizada\n",
    "print(\"Usando um método público:\", pbola1.mostra_att())\n",
    "\n",
    "# O programador não quer isto\n",
    "print(pbola1._forma)\n",
    "\n",
    "pbola1._forma = 'oval'\n",
    "print(\"Acedendo forçadamente a um atributo protegido:\", pbola1._forma)\n"
   ]
  },
  {
   "cell_type": "markdown",
   "metadata": {},
   "source": [
    "# A mesma classe Bola, mas com atributos privados e métodos privados"
   ]
  },
  {
   "cell_type": "code",
   "execution_count": 1,
   "metadata": {},
   "outputs": [],
   "source": [
    "# Definição da classe bola\n",
    "class Bola:\n",
    "    def __init__(self, velocidade, modalidade, forma, cor):\n",
    "        self.velocidade = velocidade\n",
    "        self.__material = 'pele' # atributo privado\n",
    "        self.modalidade = modalidade        \n",
    "        self._forma = forma # atributo protegito\n",
    "        self.cor = cor\n",
    "    def mostra_velocidade(self):\n",
    "        return self.velocidade\n",
    "    def incrementa_velocidade(self, valor_incrementar):\n",
    "        self.velocidade = self.velocidade + valor_incrementar\n",
    "        return self.velocidade\n",
    "    def saltar(self, altura):\n",
    "        print(f\"Estou a saltar com uma altura inicial de {altura}\")\n",
    "    def mostra_att(self):\n",
    "        print(\"velocidade:\", self.velocidade)\n",
    "        print(\"material:\", self.material)\n",
    "        print(\"modalidade:\", self.modalidade)\n",
    "        print(\"forma:\", self.forma)\n",
    "        print(\"cor:\", self.cor)\n",
    "    # Métodos protegidos\n",
    "    def _mostra_forma(self):\n",
    "        return self._forma\n",
    "    def _altera_forma(self, forma):\n",
    "        self._forma = forma\n",
    "    # Método público pelo qual posso consultar o atributo privador, portanto que não\n",
    "    # posso aceder diretamente\n",
    "    def mostra_material(self):\n",
    "        self.__material\n",
    "    def __altera_material(self):\n",
    "        self.__material = 'lã'\n",
    "    def configurar_bola(self, cor):\n",
    "        self.cor = cor\n",
    "        self.__altera_material()\n",
    "\n",
    "class PequenaBola(Bola):\n",
    "    def __init__(self, velocidade, modalidade, forma, cor, tamanho_pequeno):\n",
    "        super().__init__(velocidade, modalidade, forma, cor)\n",
    "        self._tamanho_pequeno = tamanho_pequeno\n",
    "        self.nome = 'Bola Pequena'\n",
    "    def mostra_att(self):\n",
    "        self._mostra_forma()"
   ]
  },
  {
   "cell_type": "code",
   "execution_count": 5,
   "metadata": {},
   "outputs": [
    {
     "name": "stdout",
     "output_type": "stream",
     "text": [
      "Borracha\n",
      "['_Bola__altera_material', '_Bola__material', '__class__', '__delattr__', '__dict__', '__dir__', '__doc__', '__eq__', '__format__', '__ge__', '__getattribute__', '__getstate__', '__gt__', '__hash__', '__init__', '__init_subclass__', '__le__', '__lt__', '__material', '__module__', '__ne__', '__new__', '__reduce__', '__reduce_ex__', '__repr__', '__setattr__', '__sizeof__', '__str__', '__subclasshook__', '__weakref__', '_altera_forma', '_forma', '_mostra_forma', 'configurar_bola', 'cor', 'incrementa_velocidade', 'modalidade', 'mostra_att', 'mostra_material', 'mostra_velocidade', 'saltar', 'velocidade']\n"
     ]
    }
   ],
   "source": [
    "bola2 = Bola(0, 'Hokey', 'redonda', 'preta')\n",
    "\n",
    "# O programado não quer que acedemos diretamente o atributo e não se consegue porque é privado\n",
    "bola2.__material = 'Borracha'\n",
    "\n",
    "print(bola2.__material)\n",
    "print(dir(bola2))"
   ]
  },
  {
   "cell_type": "code",
   "execution_count": 10,
   "metadata": {},
   "outputs": [
    {
     "name": "stdout",
     "output_type": "stream",
     "text": [
      "pele\n",
      "esferovite\n",
      "Borracha\n",
      "pele\n"
     ]
    }
   ],
   "source": [
    "print(bola2._Bola__material)\n",
    "\n",
    "# bola2._Bola__material = 'plástico'\n",
    "bola2.__material\n",
    "\n",
    "bola2.material = 'esferovite'\n",
    "\n",
    "print(bola2.material) # outro atributo criado dinamicamente\n",
    "print(bola2.__material) # outro atributo criado dinamicamente\n",
    "print(bola2._Bola__material) # atributo protegido que diretamente alteramos mas que não devemos fazer"
   ]
  },
  {
   "cell_type": "markdown",
   "metadata": {},
   "source": [
    "## Exemplo mais simples"
   ]
  },
  {
   "cell_type": "code",
   "execution_count": 11,
   "metadata": {},
   "outputs": [],
   "source": [
    "class ControloRemoto:\n",
    "    def __init__(self, nr_teclas):\n",
    "        # atributo privado __nr_teclas\n",
    "        self.__nr_teclas = nr_teclas\n",
    "\n",
    "    # método público para consultar nr de teclas do controlo\n",
    "    def mostra_nrteclas(self):\n",
    "        return self.__nr_teclas"
   ]
  },
  {
   "cell_type": "code",
   "execution_count": 13,
   "metadata": {},
   "outputs": [
    {
     "name": "stdout",
     "output_type": "stream",
     "text": [
      "10\n",
      "['_ControloRemoto__nr_teclas', '__class__', '__delattr__', '__dict__', '__dir__', '__doc__', '__eq__', '__format__', '__ge__', '__getattribute__', '__getstate__', '__gt__', '__hash__', '__init__', '__init_subclass__', '__le__', '__lt__', '__module__', '__ne__', '__new__', '__reduce__', '__reduce_ex__', '__repr__', '__setattr__', '__sizeof__', '__str__', '__subclasshook__', '__weakref__', 'mostra_nrteclas']\n"
     ]
    }
   ],
   "source": [
    "comando1 = ControloRemoto(10)\n",
    "\n",
    "# Uso correto da convenção de atributo privado\n",
    "print(comando1.mostra_nrteclas())\n",
    "print(dir(comando1))"
   ]
  },
  {
   "cell_type": "markdown",
   "metadata": {},
   "source": [
    "### O que não deve ser a nível de convenção e não consigo consultar porque o atributo é privado ou seja foi renomeado internamente para _ControloRemoto__nr_teclas"
   ]
  },
  {
   "cell_type": "code",
   "execution_count": 15,
   "metadata": {},
   "outputs": [
    {
     "ename": "AttributeError",
     "evalue": "'ControloRemoto' object has no attribute 'nr_teclas'",
     "output_type": "error",
     "traceback": [
      "\u001b[1;31m---------------------------------------------------------------------------\u001b[0m",
      "\u001b[1;31mAttributeError\u001b[0m                            Traceback (most recent call last)",
      "Cell \u001b[1;32mIn[15], line 2\u001b[0m\n\u001b[0;32m      1\u001b[0m \u001b[38;5;66;03m# print(comando1.__nr_teclas)\u001b[39;00m\n\u001b[1;32m----> 2\u001b[0m \u001b[38;5;28mprint\u001b[39m(\u001b[43mcomando1\u001b[49m\u001b[38;5;241;43m.\u001b[39;49m\u001b[43mnr_teclas\u001b[49m)\n",
      "\u001b[1;31mAttributeError\u001b[0m: 'ControloRemoto' object has no attribute 'nr_teclas'"
     ]
    }
   ],
   "source": [
    "# print(comando1.__nr_teclas)\n",
    "print(comando1.nr_teclas)"
   ]
  },
  {
   "cell_type": "markdown",
   "metadata": {},
   "source": [
    "### O que não se deve fazer mas que consigo porque o Python não protege totalmente através do nome que o Python renomeou _ControloRemoto__nr_teclas"
   ]
  },
  {
   "cell_type": "code",
   "execution_count": 16,
   "metadata": {},
   "outputs": [
    {
     "name": "stdout",
     "output_type": "stream",
     "text": [
      "10\n"
     ]
    }
   ],
   "source": [
    "print(comando1._ControloRemoto__nr_teclas)"
   ]
  },
  {
   "cell_type": "markdown",
   "metadata": {},
   "source": [
    "Atribuição de novos atributos a pensar que estou a alterar o atributo privado"
   ]
  },
  {
   "cell_type": "code",
   "execution_count": 17,
   "metadata": {},
   "outputs": [],
   "source": [
    "comando1.__nr_teclas = 124"
   ]
  },
  {
   "cell_type": "code",
   "execution_count": 18,
   "metadata": {},
   "outputs": [
    {
     "name": "stdout",
     "output_type": "stream",
     "text": [
      "['_ControloRemoto__nr_teclas', '__class__', '__delattr__', '__dict__', '__dir__', '__doc__', '__eq__', '__format__', '__ge__', '__getattribute__', '__getstate__', '__gt__', '__hash__', '__init__', '__init_subclass__', '__le__', '__lt__', '__module__', '__ne__', '__new__', '__nr_teclas', '__reduce__', '__reduce_ex__', '__repr__', '__setattr__', '__sizeof__', '__str__', '__subclasshook__', '__weakref__', 'mostra_nrteclas']\n"
     ]
    }
   ],
   "source": [
    "print(dir(comando1))"
   ]
  },
  {
   "cell_type": "code",
   "execution_count": 19,
   "metadata": {},
   "outputs": [
    {
     "name": "stdout",
     "output_type": "stream",
     "text": [
      "10\n",
      "124\n"
     ]
    }
   ],
   "source": [
    "print(comando1._ControloRemoto__nr_teclas)\n",
    "print(comando1.__nr_teclas)"
   ]
  },
  {
   "cell_type": "code",
   "execution_count": 20,
   "metadata": {},
   "outputs": [
    {
     "name": "stdout",
     "output_type": "stream",
     "text": [
      "['_ControloRemoto__nr_teclas', '__class__', '__delattr__', '__dict__', '__dir__', '__doc__', '__eq__', '__format__', '__ge__', '__getattribute__', '__getstate__', '__gt__', '__hash__', '__init__', '__init_subclass__', '__le__', '__lt__', '__module__', '__ne__', '__new__', '__nr_teclas', '__reduce__', '__reduce_ex__', '__repr__', '__setattr__', '__sizeof__', '__str__', '__subclasshook__', '__weakref__', 'mostra_nrteclas']\n"
     ]
    }
   ],
   "source": [
    "comando1.__nr_teclas = 2\n",
    "print(dir(comando1))"
   ]
  },
  {
   "cell_type": "code",
   "execution_count": 23,
   "metadata": {},
   "outputs": [
    {
     "name": "stdout",
     "output_type": "stream",
     "text": [
      "10\n",
      "2\n"
     ]
    },
    {
     "ename": "AttributeError",
     "evalue": "'ControloRemoto' object has no attribute 'nr_teclas'",
     "output_type": "error",
     "traceback": [
      "\u001b[1;31m---------------------------------------------------------------------------\u001b[0m",
      "\u001b[1;31mAttributeError\u001b[0m                            Traceback (most recent call last)",
      "Cell \u001b[1;32mIn[23], line 5\u001b[0m\n\u001b[0;32m      3\u001b[0m \u001b[38;5;66;03m# novos atributos criados por atribuição de valores\u001b[39;00m\n\u001b[0;32m      4\u001b[0m \u001b[38;5;28mprint\u001b[39m(comando1\u001b[38;5;241m.\u001b[39m__nr_teclas)\n\u001b[1;32m----> 5\u001b[0m \u001b[38;5;28mprint\u001b[39m(\u001b[43mcomando1\u001b[49m\u001b[38;5;241;43m.\u001b[39;49m\u001b[43mnr_teclas\u001b[49m)\n",
      "\u001b[1;31mAttributeError\u001b[0m: 'ControloRemoto' object has no attribute 'nr_teclas'"
     ]
    }
   ],
   "source": [
    "# atributo privado e protegido pelo Python pq renomeou para _ControloRemoto__nr_teclas\n",
    "print(comando1._ControloRemoto__nr_teclas)\n",
    "# novos atributos criados por atribuição de valores\n",
    "print(comando1.__nr_teclas)\n",
    "print(comando1.nr_teclas)"
   ]
  },
  {
   "cell_type": "markdown",
   "metadata": {},
   "source": [
    "Classe Controlo Remoto com atributos e métodos da própria classe"
   ]
  },
  {
   "cell_type": "code",
   "execution_count": 32,
   "metadata": {},
   "outputs": [],
   "source": [
    "# Definições da classe remota\n",
    "class ControloRemoto:\n",
    "    # atributo da classe\n",
    "    quantidade_controlos = 0\n",
    "    def __init__(self, nr_teclas):\n",
    "        # atibutos dos objetos tipo controlo\n",
    "        # atributo privado __nr_teclas\n",
    "        self.__nr_teclas = nr_teclas\n",
    "        ControloRemoto.quantidade_controlos += 1\n",
    "        print(\"Foi criado o controlo!\")\n",
    "\n",
    "    # método público para consultar nr de teclas do controlo\n",
    "    def mostra_nrteclas(self):\n",
    "        return self.__nr_teclas\n",
    "    \n",
    "    # método que mostra a quantidade de controlos existentes\n",
    "    @staticmethod\n",
    "    def mostra_controlos():\n",
    "        return ControloRemoto.quantidade_controlos"
   ]
  },
  {
   "cell_type": "code",
   "execution_count": 33,
   "metadata": {},
   "outputs": [
    {
     "name": "stdout",
     "output_type": "stream",
     "text": [
      "Foi criado o controlo!\n",
      "Foi criado o controlo!\n"
     ]
    }
   ],
   "source": [
    "# Criação de controlos e apresentação da quantidade de controlos criados\n",
    "controlo_tv = ControloRemoto(15)\n",
    "controlo_ps = ControloRemoto(6)\n"
   ]
  },
  {
   "cell_type": "code",
   "execution_count": 34,
   "metadata": {},
   "outputs": [
    {
     "name": "stdout",
     "output_type": "stream",
     "text": [
      "2\n"
     ]
    }
   ],
   "source": [
    "# mostra quantos controlos foram criados\n",
    "print(ControloRemoto.mostra_controlos())"
   ]
  }
 ],
 "metadata": {
  "kernelspec": {
   "display_name": "Python 3",
   "language": "python",
   "name": "python3"
  },
  "language_info": {
   "codemirror_mode": {
    "name": "ipython",
    "version": 3
   },
   "file_extension": ".py",
   "mimetype": "text/x-python",
   "name": "python",
   "nbconvert_exporter": "python",
   "pygments_lexer": "ipython3",
   "version": "3.12.4"
  }
 },
 "nbformat": 4,
 "nbformat_minor": 2
}
