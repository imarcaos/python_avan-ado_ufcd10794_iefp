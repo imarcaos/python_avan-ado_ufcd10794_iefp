{
 "cells": [
  {
   "cell_type": "markdown",
   "metadata": {},
   "source": [
    "# Exercício 1\n",
    "\n",
    "#### Aula 2 - 2024-09-27\n",
    "#### @author: Marcos Melo"
   ]
  },
  {
   "cell_type": "markdown",
   "metadata": {},
   "source": [
    "## Parte 1"
   ]
  },
  {
   "cell_type": "code",
   "execution_count": 3,
   "metadata": {},
   "outputs": [
    {
     "name": "stdout",
     "output_type": "stream",
     "text": [
      "Você digitou o número: 10 com o tipo de dado: <class 'str'>\n"
     ]
    }
   ],
   "source": [
    "# Pedir um número e mostrar o resultado e o tipo\n",
    "num = input(\"Digite um número: \")\n",
    "print(f\"Você digitou o número: {num} com o tipo de dado: {type(num)}\")"
   ]
  },
  {
   "cell_type": "code",
   "execution_count": 6,
   "metadata": {},
   "outputs": [
    {
     "name": "stdout",
     "output_type": "stream",
     "text": [
      "Você digitou:\n",
      "O número inteiro: 6\n",
      "Com o tipo de dado: <class 'int'>\n"
     ]
    }
   ],
   "source": [
    "# Pedir um número e assegurar que é um inteiro\n",
    "numInt = int(input(\"Digite um número inteiro: \"))\n",
    "print(f\"Você digitou:\\nO número inteiro: {numInt}\\nCom o tipo de dado: {type(numInt)}\")"
   ]
  },
  {
   "cell_type": "code",
   "execution_count": 7,
   "metadata": {},
   "outputs": [
    {
     "name": "stdout",
     "output_type": "stream",
     "text": [
      "Você digitou:\n",
      "O número float: 3.5\n",
      "Com o tipo de dado: <class 'float'>\n"
     ]
    }
   ],
   "source": [
    "# Pedir um número e assegurar que é um float\n",
    "numFloat = float(input(\"Digite um número decimal (float): \"))\n",
    "print(f\"Você digitou:\\nO número float: {numFloat}\\nCom o tipo de dado: {type(numFloat)}\")"
   ]
  },
  {
   "cell_type": "markdown",
   "metadata": {},
   "source": [
    "## Parte 2"
   ]
  },
  {
   "cell_type": "code",
   "execution_count": 10,
   "metadata": {},
   "outputs": [
    {
     "name": "stdout",
     "output_type": "stream",
     "text": [
      "          Olá Python\n"
     ]
    }
   ],
   "source": [
    "# \"Olá Python\" alinhado à direita em 20 caracteres\n",
    "print(\"{:>20}\".format(\"Olá Python\"))"
   ]
  },
  {
   "cell_type": "code",
   "execution_count": 12,
   "metadata": {},
   "outputs": [
    {
     "name": "stdout",
     "output_type": "stream",
     "text": [
      "Olá \n"
     ]
    }
   ],
   "source": [
    "# \"Olá Python\" truncado no quarto carácter (índice 3)\n",
    "print(\"{:>.4}\".format(\"Olá Python\"))"
   ]
  },
  {
   "cell_type": "code",
   "execution_count": 15,
   "metadata": {},
   "outputs": [
    {
     "name": "stdout",
     "output_type": "stream",
     "text": [
      "        Olá         \n"
     ]
    }
   ],
   "source": [
    "# \"Olá Python\" alinhado ao centro em 20 caracteres com truncagem no segundo carácter (índice 1)\n",
    "print(\"{:^20.2}\".format(\"Olá Python\")) #:^20 centra e .2 apresenta 2 caracteres"
   ]
  },
  {
   "cell_type": "code",
   "execution_count": 21,
   "metadata": {},
   "outputs": [
    {
     "name": "stdout",
     "output_type": "stream",
     "text": [
      "00150\n"
     ]
    }
   ],
   "source": [
    "# 150 formatado a 5 números inteiros preenchidos com zeros\n",
    "print(\"{:05}\".format(150))\n"
   ]
  },
  {
   "cell_type": "code",
   "execution_count": 20,
   "metadata": {},
   "outputs": [
    {
     "name": "stdout",
     "output_type": "stream",
     "text": [
      "   1071\n"
     ]
    }
   ],
   "source": [
    "# 1071 formatado a 7 números inteiros preenchidos com espaços\n",
    "print(\"{:\" \"7}\".format(1071))"
   ]
  },
  {
   "cell_type": "code",
   "execution_count": 23,
   "metadata": {},
   "outputs": [
    {
     "name": "stdout",
     "output_type": "stream",
     "text": [
      "10.010\n"
     ]
    }
   ],
   "source": [
    "# 10.01 formatado a 3 números inteiros e 3 números decimais\n",
    "print(\"{:6.3f}\".format(10.01)) # 6 digitos e 3 casas decimais"
   ]
  },
  {
   "cell_type": "markdown",
   "metadata": {},
   "source": [
    "## Parte 3"
   ]
  },
  {
   "cell_type": "code",
   "execution_count": 2,
   "metadata": {},
   "outputs": [
    {
     "name": "stdout",
     "output_type": "stream",
     "text": [
      "Pelo método format:\n",
      "O seu peso é 84.0 Kg e 1.78 m, o seu IMC é de 26.51 e tem a classificação Excesso de Peso\n",
      "Pelo f-string:\n",
      "O seu peso é 84.0 Kg e 1.78 m, o seu IMC é de 26.51 e tem a classificação Excesso de Peso\n"
     ]
    }
   ],
   "source": [
    "def calcular_imc(peso, altura):\n",
    "    \"\"\"Calcular o IMC e retornar o valor e a classificação.\"\"\"\n",
    "    imc = peso / (altura ** 2)\n",
    "    \n",
    "    # Classificação do IMC\n",
    "    # Valores e Classificação IMC retirados aqui:\n",
    "    # https://www.sns24.gov.pt/tema/doencas-cronicas/obesidade/\n",
    "    if imc < 18.5:\n",
    "        classificacao = \"Baixo peso\"\n",
    "    elif 18.5 <= imc < 24.9:\n",
    "        classificacao = \"Peso normal\"\n",
    "    elif 25 <= imc < 29.9:\n",
    "        classificacao = \"Excesso de Peso\"\n",
    "    else:\n",
    "        classificacao = \"Obesidade\"\n",
    "    \n",
    "    return imc, classificacao\n",
    "\n",
    "def main():\n",
    "    # Pedir peso e altura ao utilizador\n",
    "    peso = float(input(\"Digite seu peso em Kg: \"))\n",
    "    altura = float(input(\"Digite sua altura em metros: \"))\n",
    "    \n",
    "    # Calcular IMC\n",
    "    imc, classificacao = calcular_imc(peso, altura)\n",
    "    \n",
    "    # Formatação pelo método format\n",
    "    print(\"Pelo método format:\")\n",
    "    print(\"O seu peso é {} Kg e {:.2f} m, o seu IMC é de {:.2f} e tem a classificação {}\".format(peso, altura, imc, classificacao))\n",
    "    \n",
    "    # Formatação pelo f-string\n",
    "    print(\"Pelo f-string:\")\n",
    "    print(f\"O seu peso é {peso} Kg e {altura:.2f} m, o seu IMC é de {imc:.2f} e tem a classificação {classificacao}\")\n",
    "\n",
    "# Executar a função main\n",
    "main()"
   ]
  }
 ],
 "metadata": {
  "kernelspec": {
   "display_name": "Python 3",
   "language": "python",
   "name": "python3"
  },
  "language_info": {
   "codemirror_mode": {
    "name": "ipython",
    "version": 3
   },
   "file_extension": ".py",
   "mimetype": "text/x-python",
   "name": "python",
   "nbconvert_exporter": "python",
   "pygments_lexer": "ipython3",
   "version": "3.12.4"
  }
 },
 "nbformat": 4,
 "nbformat_minor": 2
}
