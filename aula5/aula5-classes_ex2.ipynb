{
 "cells": [
  {
   "cell_type": "code",
   "execution_count": 10,
   "metadata": {},
   "outputs": [],
   "source": [
    "class Bola():\n",
    "    def __init__(self, forma, cor):\n",
    "        # atributo é privado, só pode ser acedido pelos métodos da classe e usando __forma\n",
    "        self.__forma = forma\n",
    "        # atributo protegido\n",
    "        self._cor = cor\n",
    "\n",
    "    def mostra_cor(self):\n",
    "        return self._cor\n",
    "    def mostra_forma(self):\n",
    "        return self.__forma\n",
    "    def set_cor(self, cor):\n",
    "        self._cor = cor\n",
    "    def set_forma(self, forma):\n",
    "        self.__forma = forma"
   ]
  },
  {
   "cell_type": "code",
   "execution_count": 11,
   "metadata": {},
   "outputs": [
    {
     "name": "stdout",
     "output_type": "stream",
     "text": [
      "redonda\n",
      "oval\n",
      "['_Bola__forma', '__class__', '__delattr__', '__dict__', '__dir__', '__doc__', '__eq__', '__format__', '__ge__', '__getattribute__', '__getstate__', '__gt__', '__hash__', '__init__', '__init_subclass__', '__le__', '__lt__', '__module__', '__ne__', '__new__', '__reduce__', '__reduce_ex__', '__repr__', '__setattr__', '__sizeof__', '__str__', '__subclasshook__', '__weakref__', '_cor', 'mostra_cor', 'mostra_forma', 'set_cor', 'set_forma']\n"
     ]
    }
   ],
   "source": [
    "b1 = Bola('redonda', 'azul')\n",
    "#print(b1.forma)\n",
    "\n",
    "#b1.forma = 'oval'\n",
    "#print(b1.forma)\n",
    "\n",
    "print(b1.mostra_forma())\n",
    "b1.set_forma('oval')\n",
    "print(b1.mostra_forma())\n",
    "\n",
    "print(dir(b1))"
   ]
  },
  {
   "cell_type": "code",
   "execution_count": 21,
   "metadata": {},
   "outputs": [
    {
     "name": "stdout",
     "output_type": "stream",
     "text": [
      "azul\n",
      "['_Bola__forma', '__class__', '__delattr__', '__dict__', '__dir__', '__doc__', '__eq__', '__format__', '__ge__', '__getattribute__', '__getstate__', '__gt__', '__hash__', '__init__', '__init_subclass__', '__le__', '__lt__', '__module__', '__ne__', '__new__', '__reduce__', '__reduce_ex__', '__repr__', '__setattr__', '__sizeof__', '__str__', '__subclasshook__', '__weakref__', '_cor', 'mostra_cor', 'mostra_forma', 'set_cor', 'set_forma']\n",
      "azul\n",
      "oval\n"
     ]
    }
   ],
   "source": [
    "print(b1.mostra_cor())\n",
    "print(dir(b1))\n",
    "\n",
    "# print(b1.forma) # dá erro por ser privado\n",
    "print(b1._cor) # sem o underscore dá erro\n",
    "print(b1._Bola__forma) # com 2 underscore podemos aceder diretamente (não é aconselhável)"
   ]
  },
  {
   "cell_type": "code",
   "execution_count": 20,
   "metadata": {},
   "outputs": [
    {
     "name": "stdout",
     "output_type": "stream",
     "text": [
      "['_Bola__forma', '__class__', '__delattr__', '__dict__', '__dir__', '__doc__', '__eq__', '__format__', '__ge__', '__getattribute__', '__getstate__', '__gt__', '__hash__', '__init__', '__init_subclass__', '__le__', '__lt__', '__module__', '__ne__', '__new__', '__reduce__', '__reduce_ex__', '__repr__', '__setattr__', '__sizeof__', '__str__', '__subclasshook__', '__weakref__', '_cor', 'mostra_cor', 'mostra_forma', 'set_cor', 'set_forma']\n",
      "redonda\n"
     ]
    }
   ],
   "source": [
    "bola1 = Bola('Oval', 'Branca')\n",
    "print(dir(bola1))\n",
    "\n",
    "bola1.mostra_cor()\n",
    "bola1.set_cor('Azul')\n",
    "bola1.mostra_cor()\n",
    "#bola1.mostra_forma()\n",
    "\n",
    "#bola1.forma = 'Rectangulo'\n",
    "bola1.forma = 'redonda'\n",
    "print(bola1.forma)"
   ]
  },
  {
   "cell_type": "markdown",
   "metadata": {},
   "source": []
  }
 ],
 "metadata": {
  "kernelspec": {
   "display_name": "Python 3",
   "language": "python",
   "name": "python3"
  },
  "language_info": {
   "codemirror_mode": {
    "name": "ipython",
    "version": 3
   },
   "file_extension": ".py",
   "mimetype": "text/x-python",
   "name": "python",
   "nbconvert_exporter": "python",
   "pygments_lexer": "ipython3",
   "version": "3.12.4"
  }
 },
 "nbformat": 4,
 "nbformat_minor": 2
}
